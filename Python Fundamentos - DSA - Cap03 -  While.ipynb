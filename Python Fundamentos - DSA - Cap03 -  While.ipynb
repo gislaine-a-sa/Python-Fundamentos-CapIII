{
 "cells": [
  {
   "cell_type": "markdown",
   "metadata": {},
   "source": [
    "# <font color='pink'>Data Science Academy - Python Fundamentos - Capítulo 3</font>"
   ]
  },
  {
   "cell_type": "markdown",
   "metadata": {},
   "source": [
    "### WHILE"
   ]
  },
  {
   "cell_type": "code",
   "execution_count": 2,
   "metadata": {},
   "outputs": [
    {
     "name": "stdout",
     "output_type": "stream",
     "text": [
      "0\n",
      "1\n",
      "2\n",
      "3\n",
      "4\n",
      "5\n",
      "6\n",
      "7\n",
      "8\n",
      "9\n"
     ]
    }
   ],
   "source": [
    "# USANDO O LOOP WHILE PARA IMPRIMIR OS VALORES DE 0 A 9\n",
    "counter = 0\n",
    "while counter <10:\n",
    "    print(counter)\n",
    "    counter = counter + 1"
   ]
  },
  {
   "cell_type": "code",
   "execution_count": 4,
   "metadata": {},
   "outputs": [
    {
     "name": "stdout",
     "output_type": "stream",
     "text": [
      "O valor de x nesta iteração, é: 0\n",
      " x ainda é menor que 10, somando 1 a x\n",
      "O valor de x nesta iteração, é: 1\n",
      " x ainda é menor que 10, somando 1 a x\n",
      "O valor de x nesta iteração, é: 2\n",
      " x ainda é menor que 10, somando 1 a x\n",
      "O valor de x nesta iteração, é: 3\n",
      " x ainda é menor que 10, somando 1 a x\n",
      "O valor de x nesta iteração, é: 4\n",
      " x ainda é menor que 10, somando 1 a x\n",
      "O valor de x nesta iteração, é: 5\n",
      " x ainda é menor que 10, somando 1 a x\n",
      "O valor de x nesta iteração, é: 6\n",
      " x ainda é menor que 10, somando 1 a x\n",
      "O valor de x nesta iteração, é: 7\n",
      " x ainda é menor que 10, somando 1 a x\n",
      "O valor de x nesta iteração, é: 8\n",
      " x ainda é menor que 10, somando 1 a x\n",
      "O valor de x nesta iteração, é: 9\n",
      " x ainda é menor que 10, somando 1 a x\n",
      "LOOP CONCLUÍDO\n"
     ]
    }
   ],
   "source": [
    "# USANDO ELSE PARA ENCERRAR O LOOPE WHILE\n",
    "\n",
    "counter = 0\n",
    "\n",
    "while counter < 10:\n",
    "    print('O valor de x nesta iteração, é:', counter)\n",
    "    print(' x ainda é menor que 10, somando 1 a x')\n",
    "    counter += 1\n",
    "else:\n",
    "    print('LOOP CONCLUÍDO')"
   ]
  },
  {
   "cell_type": "markdown",
   "metadata": {},
   "source": [
    "### PASS, BREAK, CONTINUE"
   ]
  },
  {
   "cell_type": "code",
   "execution_count": 8,
   "metadata": {},
   "outputs": [
    {
     "name": "stdout",
     "output_type": "stream",
     "text": [
      "0\n",
      "1\n",
      "2\n",
      "3\n"
     ]
    }
   ],
   "source": [
    "counter = 0\n",
    "while counter < 100:\n",
    "    if counter == 4:\n",
    "        break\n",
    "    else:\n",
    "        pass\n",
    "    print(counter)\n",
    "    counter = counter + 1"
   ]
  },
  {
   "cell_type": "code",
   "execution_count": 11,
   "metadata": {},
   "outputs": [
    {
     "name": "stdout",
     "output_type": "stream",
     "text": [
      "P\n",
      "Y\n",
      "T\n",
      "O\n",
      "N\n"
     ]
    }
   ],
   "source": [
    "for verificador in 'PYTHON':\n",
    "    if verificador == 'H':\n",
    "        continue\n",
    "    print(verificador)"
   ]
  },
  {
   "cell_type": "markdown",
   "metadata": {},
   "source": [
    "### WHILE E FOR JUNTOS"
   ]
  },
  {
   "cell_type": "code",
   "execution_count": 14,
   "metadata": {},
   "outputs": [
    {
     "name": "stdout",
     "output_type": "stream",
     "text": [
      "2é um número primo\n",
      "3é um número primo\n",
      "5é um número primo\n",
      "7é um número primo\n",
      "11é um número primo\n",
      "13é um número primo\n",
      "17é um número primo\n",
      "19é um número primo\n",
      "23é um número primo\n",
      "29é um número primo\n"
     ]
    }
   ],
   "source": [
    "for i in range (2,30):\n",
    "    j =2\n",
    "    counter =0\n",
    "    while j < i:\n",
    "        if i % j ==0:\n",
    "            counter = 1\n",
    "            j = j +1\n",
    "        else:\n",
    "            j = j +1\n",
    "    if counter == 0:\n",
    "        print (str(i) + 'é um número primo')\n",
    "        counter = 0\n",
    "    else: counter = 0"
   ]
  },
  {
   "cell_type": "code",
   "execution_count": null,
   "metadata": {},
   "outputs": [],
   "source": []
  }
 ],
 "metadata": {
  "kernelspec": {
   "display_name": "Python 3",
   "language": "python",
   "name": "python3"
  },
  "language_info": {
   "codemirror_mode": {
    "name": "ipython",
    "version": 3
   },
   "file_extension": ".py",
   "mimetype": "text/x-python",
   "name": "python",
   "nbconvert_exporter": "python",
   "pygments_lexer": "ipython3",
   "version": "3.7.6"
  }
 },
 "nbformat": 4,
 "nbformat_minor": 4
}
