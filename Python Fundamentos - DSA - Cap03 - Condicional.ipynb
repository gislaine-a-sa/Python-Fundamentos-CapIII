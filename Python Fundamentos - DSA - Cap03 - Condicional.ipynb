{
 "cells": [
  {
   "cell_type": "markdown",
   "metadata": {},
   "source": [
    "# <font color='pink'>Data Science Academy - Python Fundamentos - Capítulo 3</font>\n"
   ]
  },
  {
   "cell_type": "markdown",
   "metadata": {},
   "source": [
    "### CONDICIONAL IF"
   ]
  },
  {
   "cell_type": "code",
   "execution_count": 1,
   "metadata": {},
   "outputs": [
    {
     "name": "stdout",
     "output_type": "stream",
     "text": [
      "Good morning!\n"
     ]
    }
   ],
   "source": [
    "# CONDICIONAL IF\n",
    "\n",
    "if 5 > 2:\n",
    "    print('Good morning!')"
   ]
  },
  {
   "cell_type": "code",
   "execution_count": 11,
   "metadata": {},
   "outputs": [
    {
     "name": "stdout",
     "output_type": "stream",
     "text": [
      "Good Evening!\n"
     ]
    }
   ],
   "source": [
    "# IF...ELSE\n",
    "if 5 < 2:\n",
    "    print('Good Morning!')\n",
    "else: \n",
    "    print('Good Evening!')"
   ]
  },
  {
   "cell_type": "code",
   "execution_count": 12,
   "metadata": {},
   "outputs": [
    {
     "data": {
      "text/plain": [
       "True"
      ]
     },
     "execution_count": 12,
     "metadata": {},
     "output_type": "execute_result"
    }
   ],
   "source": [
    "9 > 3"
   ]
  },
  {
   "cell_type": "code",
   "execution_count": 13,
   "metadata": {},
   "outputs": [
    {
     "data": {
      "text/plain": [
       "False"
      ]
     },
     "execution_count": 13,
     "metadata": {},
     "output_type": "execute_result"
    }
   ],
   "source": [
    "3 < 2"
   ]
  },
  {
   "cell_type": "code",
   "execution_count": 14,
   "metadata": {},
   "outputs": [
    {
     "data": {
      "text/plain": [
       "True"
      ]
     },
     "execution_count": 14,
     "metadata": {},
     "output_type": "execute_result"
    }
   ],
   "source": [
    "4>=0"
   ]
  },
  {
   "cell_type": "code",
   "execution_count": 15,
   "metadata": {},
   "outputs": [
    {
     "data": {
      "text/plain": [
       "True"
      ]
     },
     "execution_count": 15,
     "metadata": {},
     "output_type": "execute_result"
    }
   ],
   "source": [
    "4>=4"
   ]
  },
  {
   "cell_type": "code",
   "execution_count": 16,
   "metadata": {},
   "outputs": [
    {
     "data": {
      "text/plain": [
       "True"
      ]
     },
     "execution_count": 16,
     "metadata": {},
     "output_type": "execute_result"
    }
   ],
   "source": [
    "2<=2"
   ]
  },
  {
   "cell_type": "code",
   "execution_count": 17,
   "metadata": {},
   "outputs": [
    {
     "name": "stdout",
     "output_type": "stream",
     "text": [
      "Hi! How are you?\n"
     ]
    }
   ],
   "source": [
    "if 5 == 5:\n",
    "    print('Hi! How are you?')"
   ]
  },
  {
   "cell_type": "code",
   "execution_count": 18,
   "metadata": {},
   "outputs": [
    {
     "name": "stdout",
     "output_type": "stream",
     "text": [
      "Everything ok.\n"
     ]
    }
   ],
   "source": [
    "if True:\n",
    "    print('Everything ok.')"
   ]
  },
  {
   "cell_type": "code",
   "execution_count": 21,
   "metadata": {},
   "outputs": [
    {
     "ename": "SyntaxError",
     "evalue": "invalid syntax (<ipython-input-21-b537c8beb964>, line 2)",
     "output_type": "error",
     "traceback": [
      "\u001b[1;36m  File \u001b[1;32m\"<ipython-input-21-b537c8beb964>\"\u001b[1;36m, line \u001b[1;32m2\u001b[0m\n\u001b[1;33m    if 4 > 3\u001b[0m\n\u001b[1;37m             ^\u001b[0m\n\u001b[1;31mSyntaxError\u001b[0m\u001b[1;31m:\u001b[0m invalid syntax\n"
     ]
    }
   ],
   "source": [
    "# SINTAXE\n",
    "if 4 > 3 \n",
    "print('Hola!')"
   ]
  },
  {
   "cell_type": "code",
   "execution_count": 22,
   "metadata": {},
   "outputs": [
    {
     "ename": "IndentationError",
     "evalue": "expected an indented block (<ipython-input-22-53d9460f43c6>, line 3)",
     "output_type": "error",
     "traceback": [
      "\u001b[1;36m  File \u001b[1;32m\"<ipython-input-22-53d9460f43c6>\"\u001b[1;36m, line \u001b[1;32m3\u001b[0m\n\u001b[1;33m    print('Hola!')\u001b[0m\n\u001b[1;37m        ^\u001b[0m\n\u001b[1;31mIndentationError\u001b[0m\u001b[1;31m:\u001b[0m expected an indented block\n"
     ]
    }
   ],
   "source": [
    "# SINTAXE\n",
    "if 4 > 3 :\n",
    "print('Hola!')"
   ]
  },
  {
   "cell_type": "markdown",
   "metadata": {},
   "source": [
    "### CONDICIONAIS ANINHADOS"
   ]
  },
  {
   "cell_type": "code",
   "execution_count": 23,
   "metadata": {},
   "outputs": [
    {
     "name": "stdout",
     "output_type": "stream",
     "text": [
      "Parabéns! Você já pode tirar sua carteira de motorista\n"
     ]
    }
   ],
   "source": [
    "idade = 18\n",
    "if idade > 17:\n",
    "    print('Parabéns! Você já pode tirar sua carteira de motorista')"
   ]
  },
  {
   "cell_type": "code",
   "execution_count": 24,
   "metadata": {},
   "outputs": [],
   "source": [
    "Nome = 'John Smith'\n",
    "if idade > 18:\n",
    "    if Nome == 'John Smith':\n",
    "        print('Ok,  John Smith, entrada autorizada')\n",
    "    else:\n",
    "        print('Desculpe-me, sua entrada não está autorizada')\n",
    "    "
   ]
  },
  {
   "cell_type": "code",
   "execution_count": 31,
   "metadata": {},
   "outputs": [
    {
     "name": "stdout",
     "output_type": "stream",
     "text": [
      "Doctor who?\n"
     ]
    }
   ],
   "source": [
    "idade = 2000\n",
    "nome = 'Doctor'\n",
    "if idade >= 2000 and nome == 'Doctor':\n",
    "    print('Doctor who?')"
   ]
  },
  {
   "cell_type": "code",
   "execution_count": 32,
   "metadata": {},
   "outputs": [
    {
     "name": "stdout",
     "output_type": "stream",
     "text": [
      "Doctor who?\n"
     ]
    }
   ],
   "source": [
    "idade = 2000\n",
    "nome = 'Doctor'\n",
    "if (idade>=2000) or (nome=='Doctor'):\n",
    "    print('Doctor who?')"
   ]
  },
  {
   "cell_type": "markdown",
   "metadata": {},
   "source": [
    "### ELIF"
   ]
  },
  {
   "cell_type": "code",
   "execution_count": 33,
   "metadata": {},
   "outputs": [
    {
     "name": "stdout",
     "output_type": "stream",
     "text": [
      "I have a TARDIS\n"
     ]
    }
   ],
   "source": [
    "planeta = 'Gallifrey'\n",
    "if planeta == 'Gallifrey':\n",
    "    print('I have a TARDIS')\n",
    "else:\n",
    "    print('Im from the Earth')"
   ]
  },
  {
   "cell_type": "code",
   "execution_count": 39,
   "metadata": {},
   "outputs": [
    {
     "name": "stdout",
     "output_type": "stream",
     "text": [
      "Hoje fará Sol\n"
     ]
    }
   ],
   "source": [
    "dia = 'Segunda'\n",
    "if dia == 'Segunda':\n",
    "    print('Hoje fará Sol')\n",
    "elif dia == 'Terça':\n",
    "    print('Hoje vai chover')\n",
    "else:\n",
    "    print('Sem previsão do tempo')"
   ]
  },
  {
   "cell_type": "markdown",
   "metadata": {},
   "source": [
    "### OPERADORES LÓGICOS"
   ]
  },
  {
   "cell_type": "code",
   "execution_count": 42,
   "metadata": {},
   "outputs": [
    {
     "name": "stdout",
     "output_type": "stream",
     "text": [
      "EX-TER-MI-NA-TE\n"
     ]
    }
   ],
   "source": [
    "idade = 2000\n",
    "nome = 'Doctor'\n",
    "if idade >= 2000:\n",
    "    print('EX-TER-MI-NA-TE')"
   ]
  },
  {
   "cell_type": "code",
   "execution_count": 45,
   "metadata": {},
   "outputs": [
    {
     "name": "stdout",
     "output_type": "stream",
     "text": [
      "Você pode tirar carteira de motorista\n"
     ]
    }
   ],
   "source": [
    "IDADE = 18\n",
    "if IDADE >= 18:\n",
    "    print('Você pode tirar carteira de motorista')"
   ]
  },
  {
   "cell_type": "code",
   "execution_count": 47,
   "metadata": {},
   "outputs": [],
   "source": [
    "# OBSERVE\n",
    "idade = 18\n",
    "if idade >=18 and nome == 'Bob':\n",
    "    print('Autorizado')"
   ]
  },
  {
   "cell_type": "code",
   "execution_count": 48,
   "metadata": {},
   "outputs": [
    {
     "name": "stdout",
     "output_type": "stream",
     "text": [
      "Digite o nome da disciplinahISTORIA\n",
      "Digite a nota final (0-100:)10\n"
     ]
    }
   ],
   "source": [
    "# USANDO MAIS DE UMA CONDIÇÃO NA CLÁUDULA IF\n",
    "\n",
    "disciplina = input ('Digite o nome da disciplina')\n",
    "nota_final = input ('Digite a nota final (0-100:)')\n",
    "\n",
    "if disciplina == 'Geografia' and nota_final >='70':\n",
    "    print('Você foi APROVADO')"
   ]
  },
  {
   "cell_type": "code",
   "execution_count": 49,
   "metadata": {},
   "outputs": [
    {
     "name": "stdout",
     "output_type": "stream",
     "text": [
      "Digiste o nome da disciplina:Geografia\n",
      "Digite o valor da nota (0-100)75\n",
      "Digite o semestre (1 ou 2:)1\n",
      "Você está d erecuperação\n"
     ]
    }
   ],
   "source": [
    "# USANDO MAIS DE UMA CONDIÇÃO NA CLÁUSULA IF E INTRODUZINDO PLACEHOLDERS\n",
    "\n",
    "disciplina = input('Digiste o nome da disciplina:')\n",
    "nota_final = input('Digite o valor da nota (0-100)')\n",
    "semestre = input('Digite o semestre (1 ou 2:)')\n",
    "\n",
    "if disciplina == 'Geografia' and nota_final >= '70' and int(semestre) !=1:\n",
    "    print('Você foi aprovado em %s com média final %r!' %(disciplina, nota_final))\n",
    "else: \n",
    "    print('Você está d erecuperação')"
   ]
  },
  {
   "cell_type": "code",
   "execution_count": null,
   "metadata": {},
   "outputs": [],
   "source": []
  },
  {
   "cell_type": "code",
   "execution_count": null,
   "metadata": {},
   "outputs": [],
   "source": []
  },
  {
   "cell_type": "code",
   "execution_count": null,
   "metadata": {},
   "outputs": [],
   "source": []
  },
  {
   "cell_type": "code",
   "execution_count": null,
   "metadata": {},
   "outputs": [],
   "source": []
  },
  {
   "cell_type": "code",
   "execution_count": null,
   "metadata": {},
   "outputs": [],
   "source": []
  }
 ],
 "metadata": {
  "kernelspec": {
   "display_name": "Python 3",
   "language": "python",
   "name": "python3"
  },
  "language_info": {
   "codemirror_mode": {
    "name": "ipython",
    "version": 3
   },
   "file_extension": ".py",
   "mimetype": "text/x-python",
   "name": "python",
   "nbconvert_exporter": "python",
   "pygments_lexer": "ipython3",
   "version": "3.7.6"
  }
 },
 "nbformat": 4,
 "nbformat_minor": 4
}
